{
 "cells": [
  {
   "cell_type": "markdown",
   "metadata": {},
   "source": [
    "# Measurements Reindexing Mainnet\n",
    "\n",
    "These measurements were made on a full node on GCP (Google Compute) reindexing mainnet.\n",
    "\n",
    "The host is type `n1-standard-1` which means:\n",
    " * 1 virtual CPU (pinned to the host CPU)\n",
    " * 4096 MB of RAM, of which about 3.6 GB is available to userspace\n",
    " * Very slow disks (connected to some kind of SAN)\n",
    " \n",
    "Bitcoin itself is configured with `dbcache=2048`."
   ]
  },
  {
   "cell_type": "markdown",
   "metadata": {},
   "source": [
    "## Motivation\n",
    "\n",
    "The motivation here is to make IBD work better on machines with slow disks. For instance, on most cloud instances IBD will be extremely I/O bound, to the point that it's basically impossible to actually finish syncing a node. This is true even on hosts that have a relatively large amount of memory, and therefore ought to be able ot keep most of the dataset in memory."
   ]
  },
  {
   "cell_type": "markdown",
   "metadata": {},
   "source": [
    "## A Priori Memory Predictions\n",
    "\n",
    "How much memory would we expect the UTXO set to use if it was fully loaded into memory? We can calculate this with the size of keys/values and the number of entries in the UTXO set.\n",
    "\n",
    "Even on hosts that don't have this much memory for their dbcache, hosts that have a reasonable proportion of that memory (e.g. 50% of it) ought to see a big speedup."
   ]
  },
  {
   "cell_type": "code",
   "execution_count": null,
   "metadata": {},
   "outputs": [],
   "source": [
    "coutpoint_size = 36  # sizeof(COutPoint)\n",
    "cache_entry_size = 56  # sizeof(CCoinsCacheEntry)\n",
    "current_utxo_size = 57.3e6  # approximate number of entries in the current uxto set\n",
    "estimated_map_size = (coutpoint_size + cache_entry_size) * current_utxo_size\n",
    "print('Estimated memory: {:1.2f} GB'.format(estimated_map_size / (1<<30)))"
   ]
  },
  {
   "cell_type": "markdown",
   "metadata": {},
   "source": [
    "Note that this estimate assumes no overhead for the space taken by the hash table itself. Therefore we should consider it a lower bound on the amount of memory that would be needed. Given a properly tuned hash table though the real world results shouldn't take that much more memory."
   ]
  },
  {
   "cell_type": "markdown",
   "metadata": {},
   "source": [
    "## Measurements"
   ]
  },
  {
   "cell_type": "code",
   "execution_count": null,
   "metadata": {},
   "outputs": [],
   "source": [
    "%matplotlib inline\n",
    "\n",
    "import matplotlib\n",
    "import numpy as np\n",
    "import pandas as pd\n",
    "\n",
    "matplotlib.rcParams['figure.dpi']= 300\n",
    "matplotlib.rcParams['figure.figsize'] = [12, 8]"
   ]
  },
  {
   "cell_type": "code",
   "execution_count": null,
   "metadata": {},
   "outputs": [],
   "source": [
    "# this loads the local file unpack.py, force reloading it if necessary\n",
    "import importlib\n",
    "import sys\n",
    "try:\n",
    "    importlib.reload(sys.modules['unpack'])\n",
    "    importlib.reload(sys.modules['plotutils'])\n",
    "except KeyError:\n",
    "    import unpack\n",
    "    import plotutils\n",
    "\n",
    "# set these as aliases this weird way to handle reloading\n",
    "plot = plotutils.plot\n",
    "select = plotutils.select\n",
    "\n",
    "# load the data and print some information about it\n",
    "data = unpack.unpack_data()\n",
    "\n",
    "print()\n",
    "print('Host Info')\n",
    "print('---------')\n",
    "for k, v in data['hostinfo'].items():\n",
    "    print('{:16s}{}'.format(k, v))\n",
    "\n",
    "frames = data['frames']\n",
    "print()\n",
    "print('Data Frames')\n",
    "print('-----------')\n",
    "print(' '.join(sorted(frames.keys())))\n",
    "\n",
    "# naughty\n",
    "globals().update(frames)"
   ]
  },
  {
   "cell_type": "code",
   "execution_count": null,
   "metadata": {},
   "outputs": [],
   "source": [
    "# List of all flush events that happened\n",
    "plotutils.set_flushes(flushes)\n",
    "flushes.head()"
   ]
  },
  {
   "cell_type": "markdown",
   "metadata": {},
   "source": [
    "### Indexing Rate (Height)\n",
    "\n",
    "In this section we'll look at how fast the chain is syncing, measured by the chain height."
   ]
  },
  {
   "cell_type": "code",
   "execution_count": null,
   "metadata": {},
   "outputs": [],
   "source": [
    "#df = updatetip[['height', 'progress']]\n",
    "#plot(df, title='Progress', secondary_y=['progress'])\n",
    "plot(updatetip['progress'] * 100, title='IBD Syncing', ylabel='Progress %')"
   ]
  },
  {
   "cell_type": "markdown",
   "metadata": {},
   "source": [
    "### Cache Hits"
   ]
  },
  {
   "cell_type": "code",
   "execution_count": null,
   "metadata": {},
   "outputs": [],
   "source": [
    "plot(cache, title='Cache Hits/Misses')"
   ]
  },
  {
   "cell_type": "code",
   "execution_count": null,
   "metadata": {},
   "outputs": [],
   "source": [
    "df = updatetip.copy()\n",
    "df['utxo:size'] /= 1e6\n",
    "plot(df[['utxo:count', 'utxo:size']], secondary_y=['utxo:size'])"
   ]
  },
  {
   "cell_type": "code",
   "execution_count": null,
   "metadata": {},
   "outputs": [],
   "source": [
    "hits = cache['hits']\n",
    "total = hits + cache['misses']\n",
    "plot(hits / total, title='Cache Hit Ratio')"
   ]
  },
  {
   "cell_type": "markdown",
   "metadata": {},
   "source": [
    "## Disk / VFS Stats"
   ]
  },
  {
   "cell_type": "code",
   "execution_count": null,
   "metadata": {},
   "outputs": [],
   "source": [
    "plot(select(bio, 'count'), title='I/O Requests')"
   ]
  },
  {
   "cell_type": "code",
   "execution_count": null,
   "metadata": {},
   "outputs": [],
   "source": [
    "plot(select(bio, 'pages'), title='Pages read from disk')"
   ]
  },
  {
   "cell_type": "code",
   "execution_count": null,
   "metadata": {},
   "outputs": [],
   "source": [
    "vfstime = select(vfs, 'time')\n",
    "#vfstime[vfstime.columns] /= 1e9\n",
    "plot(vfstime, title=\"VFS Time\")"
   ]
  },
  {
   "cell_type": "code",
   "execution_count": null,
   "metadata": {},
   "outputs": [],
   "source": [
    "plot(leveldb['get:time']/1e8, title='Time Waiting For leveldb::DBImpl::Get()', ylabel='% of Time')"
   ]
  },
  {
   "cell_type": "code",
   "execution_count": null,
   "metadata": {},
   "outputs": [],
   "source": [
    "plot((leveldb['get:time']/1e4)/leveldb['get:count'], title='Time Per LevelDB::Get')"
   ]
  },
  {
   "cell_type": "code",
   "execution_count": null,
   "metadata": {},
   "outputs": [],
   "source": []
  }
 ],
 "metadata": {
  "kernelspec": {
   "display_name": "Python 3",
   "language": "python",
   "name": "python3"
  },
  "language_info": {
   "codemirror_mode": {
    "name": "ipython",
    "version": 3
   },
   "file_extension": ".py",
   "mimetype": "text/x-python",
   "name": "python",
   "nbconvert_exporter": "python",
   "pygments_lexer": "ipython3",
   "version": "3.6.4"
  }
 },
 "nbformat": 4,
 "nbformat_minor": 2
}
