{
 "cells": [
  {
   "cell_type": "code",
   "execution_count": null,
   "metadata": {},
   "outputs": [],
   "source": [
    "%matplotlib inline\n",
    "\n",
    "import os\n",
    "import pickle\n",
    "\n",
    "import matplotlib\n",
    "import matplotlib.pyplot as plt\n",
    "import numpy as np\n",
    "import pandas as pd\n",
    "\n",
    "#matplotlib.rcParams['figure.dpi']= 300\n",
    "matplotlib.rcParams['figure.figsize'] = [12, 8]"
   ]
  },
  {
   "cell_type": "code",
   "execution_count": null,
   "metadata": {},
   "outputs": [],
   "source": [
    "coutpoint_size = 36  # sizeof(COutPoint)\n",
    "cache_entry_size = 56  # sizeof(CCoinsCacheEntry)\n",
    "current_utxo_size = 57.3e6  # approximate number of entries in the current uxto set\n",
    "estimated_map_size = (coutpoint_size + cache_entry_size) * current_utxo_size\n",
    "print('Estimated memory: {:1.2f} GB'.format(estimated_map_size / (1<<30)))"
   ]
  },
  {
   "cell_type": "code",
   "execution_count": null,
   "metadata": {},
   "outputs": [],
   "source": [
    "with open('data.pkl', 'rb') as pkl_file:\n",
    "    data = pickle.load(pkl_file)\n",
    "frames = data['frames']\n",
    "globals().update(frames)\n",
    "\n",
    "print('data generated from {}'.format(data['filename']))\n",
    "print('frames: {}'.format(' '.join(sorted(frames.keys()))))"
   ]
  },
  {
   "cell_type": "code",
   "execution_count": null,
   "metadata": {},
   "outputs": [],
   "source": [
    "flush"
   ]
  },
  {
   "cell_type": "code",
   "execution_count": null,
   "metadata": {},
   "outputs": [],
   "source": [
    "def plot(df, color='k', title=None, show_flush=True):\n",
    "    plt.figure()\n",
    "    df.plot(title=title)\n",
    "    if show_flush:\n",
    "        for t in flush.index.tolist():\n",
    "            plt.axvline(x=t, color=color, linestyle=':')"
   ]
  },
  {
   "cell_type": "code",
   "execution_count": null,
   "metadata": {},
   "outputs": [],
   "source": [
    "plot(update_tip['height'], title='Chain Height')"
   ]
  },
  {
   "cell_type": "code",
   "execution_count": null,
   "metadata": {},
   "outputs": [],
   "source": [
    "times = np.array(update_tip.index.to_series())\n",
    "front = times[:-1]\n",
    "back = times[1:]\n",
    "ns_per_block = back - front\n",
    "blocks_per_s = (1e9/ns_per_block.astype(int))\n",
    "df = pd.DataFrame({'blocks_per_second': blocks_per_s}, index=back)\n",
    "plot(df.rolling(10).mean(), title='Blocks Per Second')"
   ]
  },
  {
   "cell_type": "code",
   "execution_count": null,
   "metadata": {},
   "outputs": [],
   "source": [
    "plot(cache, title='Cache Hits/Misses')\n",
    "plot(io, title='Bytes R/W From Disk')\n",
    "plot(vfs, title='VFS Counts')"
   ]
  },
  {
   "cell_type": "code",
   "execution_count": null,
   "metadata": {},
   "outputs": [],
   "source": [
    "plot(update_tip[['utxo_memory', 'utxo_count']], title='UTXO Memory')"
   ]
  },
  {
   "cell_type": "code",
   "execution_count": null,
   "metadata": {},
   "outputs": [],
   "source": [
    "hits = cache['hits']\n",
    "total = cache['hits'] + cache['misses']\n",
    "hit_ratio = hits / total\n",
    "plot(hit_ratio.rolling(60).mean(), title='Cache Hit Ratio')"
   ]
  },
  {
   "cell_type": "code",
   "execution_count": null,
   "metadata": {},
   "outputs": [],
   "source": []
  }
 ],
 "metadata": {
  "kernelspec": {
   "display_name": "Python 3",
   "language": "python",
   "name": "python3"
  },
  "language_info": {
   "codemirror_mode": {
    "name": "ipython",
    "version": 3
   },
   "file_extension": ".py",
   "mimetype": "text/x-python",
   "name": "python",
   "nbconvert_exporter": "python",
   "pygments_lexer": "ipython3",
   "version": "3.6.4"
  }
 },
 "nbformat": 4,
 "nbformat_minor": 2
}
